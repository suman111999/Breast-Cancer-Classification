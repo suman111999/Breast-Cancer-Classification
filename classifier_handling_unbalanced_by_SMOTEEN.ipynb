{
  "nbformat": 4,
  "nbformat_minor": 0,
  "metadata": {
    "kernelspec": {
      "display_name": "Python 3",
      "language": "python",
      "name": "python3"
    },
    "language_info": {
      "codemirror_mode": {
        "name": "ipython",
        "version": 3
      },
      "file_extension": ".py",
      "mimetype": "text/x-python",
      "name": "python",
      "nbconvert_exporter": "python",
      "pygments_lexer": "ipython3",
      "version": "3.7.6"
    },
    "colab": {
      "name": "classifier_handling_unbalanced_by_SMOTEEN.ipynb",
      "provenance": [],
      "include_colab_link": true
    }
  },
  "cells": [
    {
      "cell_type": "markdown",
      "metadata": {
        "id": "view-in-github",
        "colab_type": "text"
      },
      "source": [
        "<a href=\"https://colab.research.google.com/github/suman111999/Breast-Cancer-Classification/blob/main/classifier_handling_unbalanced_by_SMOTEEN.ipynb\" target=\"_parent\"><img src=\"https://colab.research.google.com/assets/colab-badge.svg\" alt=\"Open In Colab\"/></a>"
      ]
    },
    {
      "cell_type": "code",
      "metadata": {
        "id": "vTMlY7IJonHN"
      },
      "source": [
        "%matplotlib inline\n",
        "\n",
        "import pandas as pd\n",
        "import numpy as np \n",
        "import matplotlib.pyplot as plt \n",
        "import matplotlib.gridspec as gridspec\n",
        "from sklearn.model_selection import train_test_split\n",
        "from sklearn.linear_model import LogisticRegression\n",
        "from sklearn.model_selection import cross_val_score  \n",
        "from sklearn.ensemble import RandomForestClassifier\n",
        "from sklearn.tree import DecisionTreeClassifier, export_graphviz\n",
        "from sklearn import metrics\n",
        "from sklearn.svm import SVC\n",
        "from sklearn.preprocessing import StandardScaler\n",
        "import seaborn as sns\n",
        "import itertools\n",
        "from sklearn.metrics import f1_score,precision_score, recall_score, confusion_matrix, roc_curve, precision_recall_curve, accuracy_score,classification_report\n",
        "import warnings\n",
        "warnings.filterwarnings('ignore')"
      ],
      "execution_count": null,
      "outputs": []
    },
    {
      "cell_type": "code",
      "metadata": {
        "id": "a6ug-FxnonHo",
        "outputId": "b59c0a17-8b02-459e-aed3-6afc5b68ce2b"
      },
      "source": [
        "df=pd.read_excel('BreastCancer_Prognostic_v1.xlsx')\n",
        "df.head()"
      ],
      "execution_count": null,
      "outputs": [
        {
          "output_type": "execute_result",
          "data": {
            "text/html": [
              "<div>\n",
              "<style scoped>\n",
              "    .dataframe tbody tr th:only-of-type {\n",
              "        vertical-align: middle;\n",
              "    }\n",
              "\n",
              "    .dataframe tbody tr th {\n",
              "        vertical-align: top;\n",
              "    }\n",
              "\n",
              "    .dataframe thead th {\n",
              "        text-align: right;\n",
              "    }\n",
              "</style>\n",
              "<table border=\"1\" class=\"dataframe\">\n",
              "  <thead>\n",
              "    <tr style=\"text-align: right;\">\n",
              "      <th></th>\n",
              "      <th>ID</th>\n",
              "      <th>Outcome</th>\n",
              "      <th>Time</th>\n",
              "      <th>radius_mean</th>\n",
              "      <th>texture_mean</th>\n",
              "      <th>perimeter_mean</th>\n",
              "      <th>area_mean</th>\n",
              "      <th>smoothness_mean</th>\n",
              "      <th>compactness_mean</th>\n",
              "      <th>concavity_mean</th>\n",
              "      <th>...</th>\n",
              "      <th>Worst_perimeter</th>\n",
              "      <th>Worst_area</th>\n",
              "      <th>Worst_smoothness</th>\n",
              "      <th>Worst_compactness</th>\n",
              "      <th>Worst_concavity</th>\n",
              "      <th>Worst_concave_points</th>\n",
              "      <th>Worst_symmetry</th>\n",
              "      <th>Worst_fractal_dimension</th>\n",
              "      <th>Tumor_Size</th>\n",
              "      <th>Lymph_Node_Status</th>\n",
              "    </tr>\n",
              "  </thead>\n",
              "  <tbody>\n",
              "    <tr>\n",
              "      <th>0</th>\n",
              "      <td>119513</td>\n",
              "      <td>N</td>\n",
              "      <td>31</td>\n",
              "      <td>18.02</td>\n",
              "      <td>27.60</td>\n",
              "      <td>117.50</td>\n",
              "      <td>1013.0</td>\n",
              "      <td>0.09489</td>\n",
              "      <td>0.1036</td>\n",
              "      <td>0.1086</td>\n",
              "      <td>...</td>\n",
              "      <td>139.70</td>\n",
              "      <td>1436.0</td>\n",
              "      <td>0.1195</td>\n",
              "      <td>0.1926</td>\n",
              "      <td>0.3140</td>\n",
              "      <td>0.1170</td>\n",
              "      <td>0.2677</td>\n",
              "      <td>0.08113</td>\n",
              "      <td>5.0</td>\n",
              "      <td>5</td>\n",
              "    </tr>\n",
              "    <tr>\n",
              "      <th>1</th>\n",
              "      <td>8423</td>\n",
              "      <td>N</td>\n",
              "      <td>61</td>\n",
              "      <td>17.99</td>\n",
              "      <td>10.38</td>\n",
              "      <td>122.80</td>\n",
              "      <td>1001.0</td>\n",
              "      <td>0.11840</td>\n",
              "      <td>0.2776</td>\n",
              "      <td>0.3001</td>\n",
              "      <td>...</td>\n",
              "      <td>184.60</td>\n",
              "      <td>2019.0</td>\n",
              "      <td>0.1622</td>\n",
              "      <td>0.6656</td>\n",
              "      <td>0.7119</td>\n",
              "      <td>0.2654</td>\n",
              "      <td>0.4601</td>\n",
              "      <td>0.11890</td>\n",
              "      <td>3.0</td>\n",
              "      <td>2</td>\n",
              "    </tr>\n",
              "    <tr>\n",
              "      <th>2</th>\n",
              "      <td>842517</td>\n",
              "      <td>N</td>\n",
              "      <td>116</td>\n",
              "      <td>21.37</td>\n",
              "      <td>17.44</td>\n",
              "      <td>137.50</td>\n",
              "      <td>1373.0</td>\n",
              "      <td>0.08836</td>\n",
              "      <td>0.1189</td>\n",
              "      <td>0.1255</td>\n",
              "      <td>...</td>\n",
              "      <td>159.10</td>\n",
              "      <td>1949.0</td>\n",
              "      <td>0.1188</td>\n",
              "      <td>0.3449</td>\n",
              "      <td>0.3414</td>\n",
              "      <td>0.2032</td>\n",
              "      <td>0.4334</td>\n",
              "      <td>0.09067</td>\n",
              "      <td>2.5</td>\n",
              "      <td>0</td>\n",
              "    </tr>\n",
              "    <tr>\n",
              "      <th>3</th>\n",
              "      <td>843483</td>\n",
              "      <td>N</td>\n",
              "      <td>123</td>\n",
              "      <td>11.42</td>\n",
              "      <td>20.38</td>\n",
              "      <td>77.58</td>\n",
              "      <td>386.1</td>\n",
              "      <td>0.14250</td>\n",
              "      <td>0.2839</td>\n",
              "      <td>0.2414</td>\n",
              "      <td>...</td>\n",
              "      <td>98.87</td>\n",
              "      <td>567.7</td>\n",
              "      <td>0.2098</td>\n",
              "      <td>0.8663</td>\n",
              "      <td>0.6869</td>\n",
              "      <td>0.2575</td>\n",
              "      <td>0.6638</td>\n",
              "      <td>0.17300</td>\n",
              "      <td>2.0</td>\n",
              "      <td>0</td>\n",
              "    </tr>\n",
              "    <tr>\n",
              "      <th>4</th>\n",
              "      <td>843584</td>\n",
              "      <td>R</td>\n",
              "      <td>27</td>\n",
              "      <td>20.29</td>\n",
              "      <td>14.34</td>\n",
              "      <td>135.10</td>\n",
              "      <td>1297.0</td>\n",
              "      <td>0.10030</td>\n",
              "      <td>0.1328</td>\n",
              "      <td>0.1980</td>\n",
              "      <td>...</td>\n",
              "      <td>152.20</td>\n",
              "      <td>1575.0</td>\n",
              "      <td>0.1374</td>\n",
              "      <td>0.2050</td>\n",
              "      <td>0.4000</td>\n",
              "      <td>0.1625</td>\n",
              "      <td>0.2364</td>\n",
              "      <td>0.07678</td>\n",
              "      <td>3.5</td>\n",
              "      <td>0</td>\n",
              "    </tr>\n",
              "  </tbody>\n",
              "</table>\n",
              "<p>5 rows × 35 columns</p>\n",
              "</div>"
            ],
            "text/plain": [
              "       ID Outcome  Time  radius_mean  texture_mean  perimeter_mean  area_mean  \\\n",
              "0  119513       N    31        18.02         27.60          117.50     1013.0   \n",
              "1    8423       N    61        17.99         10.38          122.80     1001.0   \n",
              "2  842517       N   116        21.37         17.44          137.50     1373.0   \n",
              "3  843483       N   123        11.42         20.38           77.58      386.1   \n",
              "4  843584       R    27        20.29         14.34          135.10     1297.0   \n",
              "\n",
              "   smoothness_mean  compactness_mean  concavity_mean  ...  Worst_perimeter  \\\n",
              "0          0.09489            0.1036          0.1086  ...           139.70   \n",
              "1          0.11840            0.2776          0.3001  ...           184.60   \n",
              "2          0.08836            0.1189          0.1255  ...           159.10   \n",
              "3          0.14250            0.2839          0.2414  ...            98.87   \n",
              "4          0.10030            0.1328          0.1980  ...           152.20   \n",
              "\n",
              "   Worst_area  Worst_smoothness  Worst_compactness  Worst_concavity  \\\n",
              "0      1436.0            0.1195             0.1926           0.3140   \n",
              "1      2019.0            0.1622             0.6656           0.7119   \n",
              "2      1949.0            0.1188             0.3449           0.3414   \n",
              "3       567.7            0.2098             0.8663           0.6869   \n",
              "4      1575.0            0.1374             0.2050           0.4000   \n",
              "\n",
              "   Worst_concave_points  Worst_symmetry  Worst_fractal_dimension  Tumor_Size  \\\n",
              "0                0.1170          0.2677                  0.08113         5.0   \n",
              "1                0.2654          0.4601                  0.11890         3.0   \n",
              "2                0.2032          0.4334                  0.09067         2.5   \n",
              "3                0.2575          0.6638                  0.17300         2.0   \n",
              "4                0.1625          0.2364                  0.07678         3.5   \n",
              "\n",
              "   Lymph_Node_Status  \n",
              "0                  5  \n",
              "1                  2  \n",
              "2                  0  \n",
              "3                  0  \n",
              "4                  0  \n",
              "\n",
              "[5 rows x 35 columns]"
            ]
          },
          "metadata": {
            "tags": []
          },
          "execution_count": 2
        }
      ]
    },
    {
      "cell_type": "code",
      "metadata": {
        "id": "MZLdZY8tonHu",
        "outputId": "40a80cdc-5c50-4802-e566-7f1cb41af627"
      },
      "source": [
        "df.info()"
      ],
      "execution_count": null,
      "outputs": [
        {
          "output_type": "stream",
          "text": [
            "<class 'pandas.core.frame.DataFrame'>\n",
            "RangeIndex: 198 entries, 0 to 197\n",
            "Data columns (total 35 columns):\n",
            "ID                           198 non-null int64\n",
            "Outcome                      198 non-null object\n",
            "Time                         198 non-null int64\n",
            "radius_mean                  198 non-null float64\n",
            "texture_mean                 198 non-null float64\n",
            "perimeter_mean               198 non-null float64\n",
            "area_mean                    198 non-null float64\n",
            "smoothness_mean              198 non-null float64\n",
            "compactness_mean             198 non-null float64\n",
            "concavity_mean               198 non-null float64\n",
            "concave_points_mean          198 non-null float64\n",
            "symmetry_mean                198 non-null float64\n",
            "fractal_dimension_mean       198 non-null float64\n",
            "radius_std_dev               198 non-null float64\n",
            "texture_std_dev              198 non-null float64\n",
            "perimeter_std_dev            198 non-null float64\n",
            "area_std_dev                 198 non-null float64\n",
            "smoothness_std_dev           198 non-null float64\n",
            "compactness_std_dev          198 non-null float64\n",
            "concavity_std_dev            198 non-null float64\n",
            "concave_points_std_dev       198 non-null float64\n",
            "symmetry_std_dev             198 non-null float64\n",
            "fractal_dimension_std_dev    198 non-null float64\n",
            "Worst_radius                 198 non-null float64\n",
            "Worst_texture                198 non-null float64\n",
            "Worst_perimeter              198 non-null float64\n",
            "Worst_area                   198 non-null float64\n",
            "Worst_smoothness             198 non-null float64\n",
            "Worst_compactness            198 non-null float64\n",
            "Worst_concavity              198 non-null float64\n",
            "Worst_concave_points         198 non-null float64\n",
            "Worst_symmetry               198 non-null float64\n",
            "Worst_fractal_dimension      198 non-null float64\n",
            "Tumor_Size                   198 non-null float64\n",
            "Lymph_Node_Status            198 non-null object\n",
            "dtypes: float64(31), int64(2), object(2)\n",
            "memory usage: 54.3+ KB\n"
          ],
          "name": "stdout"
        }
      ]
    },
    {
      "cell_type": "code",
      "metadata": {
        "id": "ajf4srsmonHw"
      },
      "source": [
        "df.replace(to_replace='?',value=np.nan,inplace=True)"
      ],
      "execution_count": null,
      "outputs": []
    },
    {
      "cell_type": "code",
      "metadata": {
        "id": "_H1e_DaqonHx",
        "outputId": "8e4f264d-c2c5-4d62-865d-1d23659cd245"
      },
      "source": [
        "df.info()"
      ],
      "execution_count": null,
      "outputs": [
        {
          "output_type": "stream",
          "text": [
            "<class 'pandas.core.frame.DataFrame'>\n",
            "RangeIndex: 198 entries, 0 to 197\n",
            "Data columns (total 35 columns):\n",
            "ID                           198 non-null int64\n",
            "Outcome                      198 non-null object\n",
            "Time                         198 non-null int64\n",
            "radius_mean                  198 non-null float64\n",
            "texture_mean                 198 non-null float64\n",
            "perimeter_mean               198 non-null float64\n",
            "area_mean                    198 non-null float64\n",
            "smoothness_mean              198 non-null float64\n",
            "compactness_mean             198 non-null float64\n",
            "concavity_mean               198 non-null float64\n",
            "concave_points_mean          198 non-null float64\n",
            "symmetry_mean                198 non-null float64\n",
            "fractal_dimension_mean       198 non-null float64\n",
            "radius_std_dev               198 non-null float64\n",
            "texture_std_dev              198 non-null float64\n",
            "perimeter_std_dev            198 non-null float64\n",
            "area_std_dev                 198 non-null float64\n",
            "smoothness_std_dev           198 non-null float64\n",
            "compactness_std_dev          198 non-null float64\n",
            "concavity_std_dev            198 non-null float64\n",
            "concave_points_std_dev       198 non-null float64\n",
            "symmetry_std_dev             198 non-null float64\n",
            "fractal_dimension_std_dev    198 non-null float64\n",
            "Worst_radius                 198 non-null float64\n",
            "Worst_texture                198 non-null float64\n",
            "Worst_perimeter              198 non-null float64\n",
            "Worst_area                   198 non-null float64\n",
            "Worst_smoothness             198 non-null float64\n",
            "Worst_compactness            198 non-null float64\n",
            "Worst_concavity              198 non-null float64\n",
            "Worst_concave_points         198 non-null float64\n",
            "Worst_symmetry               198 non-null float64\n",
            "Worst_fractal_dimension      198 non-null float64\n",
            "Tumor_Size                   198 non-null float64\n",
            "Lymph_Node_Status            194 non-null float64\n",
            "dtypes: float64(32), int64(2), object(1)\n",
            "memory usage: 54.3+ KB\n"
          ],
          "name": "stdout"
        }
      ]
    },
    {
      "cell_type": "code",
      "metadata": {
        "id": "dvck84LdonHz"
      },
      "source": [
        "df=df.fillna(df.mean())"
      ],
      "execution_count": null,
      "outputs": []
    },
    {
      "cell_type": "code",
      "metadata": {
        "id": "ymWrNZgIonH0",
        "outputId": "fea15f96-baf3-4ccd-f5b5-112ca79d182a"
      },
      "source": [
        "df.isna().values.any()"
      ],
      "execution_count": null,
      "outputs": [
        {
          "output_type": "execute_result",
          "data": {
            "text/plain": [
              "False"
            ]
          },
          "metadata": {
            "tags": []
          },
          "execution_count": 7
        }
      ]
    },
    {
      "cell_type": "code",
      "metadata": {
        "id": "1UlmSzq-onH2"
      },
      "source": [
        "df.drop('ID',axis=1,inplace=True)"
      ],
      "execution_count": null,
      "outputs": []
    },
    {
      "cell_type": "code",
      "metadata": {
        "id": "Y4GtVhB7onH4",
        "outputId": "0fce5090-5992-40d9-f7fb-7c5ce6984362"
      },
      "source": [
        "df.head()"
      ],
      "execution_count": null,
      "outputs": [
        {
          "output_type": "execute_result",
          "data": {
            "text/html": [
              "<div>\n",
              "<style scoped>\n",
              "    .dataframe tbody tr th:only-of-type {\n",
              "        vertical-align: middle;\n",
              "    }\n",
              "\n",
              "    .dataframe tbody tr th {\n",
              "        vertical-align: top;\n",
              "    }\n",
              "\n",
              "    .dataframe thead th {\n",
              "        text-align: right;\n",
              "    }\n",
              "</style>\n",
              "<table border=\"1\" class=\"dataframe\">\n",
              "  <thead>\n",
              "    <tr style=\"text-align: right;\">\n",
              "      <th></th>\n",
              "      <th>Outcome</th>\n",
              "      <th>Time</th>\n",
              "      <th>radius_mean</th>\n",
              "      <th>texture_mean</th>\n",
              "      <th>perimeter_mean</th>\n",
              "      <th>area_mean</th>\n",
              "      <th>smoothness_mean</th>\n",
              "      <th>compactness_mean</th>\n",
              "      <th>concavity_mean</th>\n",
              "      <th>concave_points_mean</th>\n",
              "      <th>...</th>\n",
              "      <th>Worst_perimeter</th>\n",
              "      <th>Worst_area</th>\n",
              "      <th>Worst_smoothness</th>\n",
              "      <th>Worst_compactness</th>\n",
              "      <th>Worst_concavity</th>\n",
              "      <th>Worst_concave_points</th>\n",
              "      <th>Worst_symmetry</th>\n",
              "      <th>Worst_fractal_dimension</th>\n",
              "      <th>Tumor_Size</th>\n",
              "      <th>Lymph_Node_Status</th>\n",
              "    </tr>\n",
              "  </thead>\n",
              "  <tbody>\n",
              "    <tr>\n",
              "      <th>0</th>\n",
              "      <td>N</td>\n",
              "      <td>31</td>\n",
              "      <td>18.02</td>\n",
              "      <td>27.60</td>\n",
              "      <td>117.50</td>\n",
              "      <td>1013.0</td>\n",
              "      <td>0.09489</td>\n",
              "      <td>0.1036</td>\n",
              "      <td>0.1086</td>\n",
              "      <td>0.07055</td>\n",
              "      <td>...</td>\n",
              "      <td>139.70</td>\n",
              "      <td>1436.0</td>\n",
              "      <td>0.1195</td>\n",
              "      <td>0.1926</td>\n",
              "      <td>0.3140</td>\n",
              "      <td>0.1170</td>\n",
              "      <td>0.2677</td>\n",
              "      <td>0.08113</td>\n",
              "      <td>5.0</td>\n",
              "      <td>5.0</td>\n",
              "    </tr>\n",
              "    <tr>\n",
              "      <th>1</th>\n",
              "      <td>N</td>\n",
              "      <td>61</td>\n",
              "      <td>17.99</td>\n",
              "      <td>10.38</td>\n",
              "      <td>122.80</td>\n",
              "      <td>1001.0</td>\n",
              "      <td>0.11840</td>\n",
              "      <td>0.2776</td>\n",
              "      <td>0.3001</td>\n",
              "      <td>0.14710</td>\n",
              "      <td>...</td>\n",
              "      <td>184.60</td>\n",
              "      <td>2019.0</td>\n",
              "      <td>0.1622</td>\n",
              "      <td>0.6656</td>\n",
              "      <td>0.7119</td>\n",
              "      <td>0.2654</td>\n",
              "      <td>0.4601</td>\n",
              "      <td>0.11890</td>\n",
              "      <td>3.0</td>\n",
              "      <td>2.0</td>\n",
              "    </tr>\n",
              "    <tr>\n",
              "      <th>2</th>\n",
              "      <td>N</td>\n",
              "      <td>116</td>\n",
              "      <td>21.37</td>\n",
              "      <td>17.44</td>\n",
              "      <td>137.50</td>\n",
              "      <td>1373.0</td>\n",
              "      <td>0.08836</td>\n",
              "      <td>0.1189</td>\n",
              "      <td>0.1255</td>\n",
              "      <td>0.08180</td>\n",
              "      <td>...</td>\n",
              "      <td>159.10</td>\n",
              "      <td>1949.0</td>\n",
              "      <td>0.1188</td>\n",
              "      <td>0.3449</td>\n",
              "      <td>0.3414</td>\n",
              "      <td>0.2032</td>\n",
              "      <td>0.4334</td>\n",
              "      <td>0.09067</td>\n",
              "      <td>2.5</td>\n",
              "      <td>0.0</td>\n",
              "    </tr>\n",
              "    <tr>\n",
              "      <th>3</th>\n",
              "      <td>N</td>\n",
              "      <td>123</td>\n",
              "      <td>11.42</td>\n",
              "      <td>20.38</td>\n",
              "      <td>77.58</td>\n",
              "      <td>386.1</td>\n",
              "      <td>0.14250</td>\n",
              "      <td>0.2839</td>\n",
              "      <td>0.2414</td>\n",
              "      <td>0.10520</td>\n",
              "      <td>...</td>\n",
              "      <td>98.87</td>\n",
              "      <td>567.7</td>\n",
              "      <td>0.2098</td>\n",
              "      <td>0.8663</td>\n",
              "      <td>0.6869</td>\n",
              "      <td>0.2575</td>\n",
              "      <td>0.6638</td>\n",
              "      <td>0.17300</td>\n",
              "      <td>2.0</td>\n",
              "      <td>0.0</td>\n",
              "    </tr>\n",
              "    <tr>\n",
              "      <th>4</th>\n",
              "      <td>R</td>\n",
              "      <td>27</td>\n",
              "      <td>20.29</td>\n",
              "      <td>14.34</td>\n",
              "      <td>135.10</td>\n",
              "      <td>1297.0</td>\n",
              "      <td>0.10030</td>\n",
              "      <td>0.1328</td>\n",
              "      <td>0.1980</td>\n",
              "      <td>0.10430</td>\n",
              "      <td>...</td>\n",
              "      <td>152.20</td>\n",
              "      <td>1575.0</td>\n",
              "      <td>0.1374</td>\n",
              "      <td>0.2050</td>\n",
              "      <td>0.4000</td>\n",
              "      <td>0.1625</td>\n",
              "      <td>0.2364</td>\n",
              "      <td>0.07678</td>\n",
              "      <td>3.5</td>\n",
              "      <td>0.0</td>\n",
              "    </tr>\n",
              "  </tbody>\n",
              "</table>\n",
              "<p>5 rows × 34 columns</p>\n",
              "</div>"
            ],
            "text/plain": [
              "  Outcome  Time  radius_mean  texture_mean  perimeter_mean  area_mean  \\\n",
              "0       N    31        18.02         27.60          117.50     1013.0   \n",
              "1       N    61        17.99         10.38          122.80     1001.0   \n",
              "2       N   116        21.37         17.44          137.50     1373.0   \n",
              "3       N   123        11.42         20.38           77.58      386.1   \n",
              "4       R    27        20.29         14.34          135.10     1297.0   \n",
              "\n",
              "   smoothness_mean  compactness_mean  concavity_mean  concave_points_mean  \\\n",
              "0          0.09489            0.1036          0.1086              0.07055   \n",
              "1          0.11840            0.2776          0.3001              0.14710   \n",
              "2          0.08836            0.1189          0.1255              0.08180   \n",
              "3          0.14250            0.2839          0.2414              0.10520   \n",
              "4          0.10030            0.1328          0.1980              0.10430   \n",
              "\n",
              "   ...  Worst_perimeter  Worst_area  Worst_smoothness  Worst_compactness  \\\n",
              "0  ...           139.70      1436.0            0.1195             0.1926   \n",
              "1  ...           184.60      2019.0            0.1622             0.6656   \n",
              "2  ...           159.10      1949.0            0.1188             0.3449   \n",
              "3  ...            98.87       567.7            0.2098             0.8663   \n",
              "4  ...           152.20      1575.0            0.1374             0.2050   \n",
              "\n",
              "   Worst_concavity  Worst_concave_points  Worst_symmetry  \\\n",
              "0           0.3140                0.1170          0.2677   \n",
              "1           0.7119                0.2654          0.4601   \n",
              "2           0.3414                0.2032          0.4334   \n",
              "3           0.6869                0.2575          0.6638   \n",
              "4           0.4000                0.1625          0.2364   \n",
              "\n",
              "   Worst_fractal_dimension  Tumor_Size  Lymph_Node_Status  \n",
              "0                  0.08113         5.0                5.0  \n",
              "1                  0.11890         3.0                2.0  \n",
              "2                  0.09067         2.5                0.0  \n",
              "3                  0.17300         2.0                0.0  \n",
              "4                  0.07678         3.5                0.0  \n",
              "\n",
              "[5 rows x 34 columns]"
            ]
          },
          "metadata": {
            "tags": []
          },
          "execution_count": 9
        }
      ]
    },
    {
      "cell_type": "code",
      "metadata": {
        "id": "9Mwqa-GIonH6"
      },
      "source": [
        "df['Outcome']=df['Outcome'].map({'R':1,'N':0})"
      ],
      "execution_count": null,
      "outputs": []
    },
    {
      "cell_type": "code",
      "metadata": {
        "id": "3XwjAqRwonH7",
        "outputId": "f6db5845-5a97-4353-e17b-709439bc64ba"
      },
      "source": [
        "df['Outcome'].value_counts()#imbalanced"
      ],
      "execution_count": null,
      "outputs": [
        {
          "output_type": "execute_result",
          "data": {
            "text/plain": [
              "0    151\n",
              "1     47\n",
              "Name: Outcome, dtype: int64"
            ]
          },
          "metadata": {
            "tags": []
          },
          "execution_count": 11
        }
      ]
    },
    {
      "cell_type": "code",
      "metadata": {
        "id": "63utJFFSonH8",
        "outputId": "cd89ba09-6428-46b3-eda9-1fcbf0839791"
      },
      "source": [
        "X=df.drop('Outcome',axis=1)\n",
        "X.head()"
      ],
      "execution_count": null,
      "outputs": [
        {
          "output_type": "execute_result",
          "data": {
            "text/html": [
              "<div>\n",
              "<style scoped>\n",
              "    .dataframe tbody tr th:only-of-type {\n",
              "        vertical-align: middle;\n",
              "    }\n",
              "\n",
              "    .dataframe tbody tr th {\n",
              "        vertical-align: top;\n",
              "    }\n",
              "\n",
              "    .dataframe thead th {\n",
              "        text-align: right;\n",
              "    }\n",
              "</style>\n",
              "<table border=\"1\" class=\"dataframe\">\n",
              "  <thead>\n",
              "    <tr style=\"text-align: right;\">\n",
              "      <th></th>\n",
              "      <th>Time</th>\n",
              "      <th>radius_mean</th>\n",
              "      <th>texture_mean</th>\n",
              "      <th>perimeter_mean</th>\n",
              "      <th>area_mean</th>\n",
              "      <th>smoothness_mean</th>\n",
              "      <th>compactness_mean</th>\n",
              "      <th>concavity_mean</th>\n",
              "      <th>concave_points_mean</th>\n",
              "      <th>symmetry_mean</th>\n",
              "      <th>...</th>\n",
              "      <th>Worst_perimeter</th>\n",
              "      <th>Worst_area</th>\n",
              "      <th>Worst_smoothness</th>\n",
              "      <th>Worst_compactness</th>\n",
              "      <th>Worst_concavity</th>\n",
              "      <th>Worst_concave_points</th>\n",
              "      <th>Worst_symmetry</th>\n",
              "      <th>Worst_fractal_dimension</th>\n",
              "      <th>Tumor_Size</th>\n",
              "      <th>Lymph_Node_Status</th>\n",
              "    </tr>\n",
              "  </thead>\n",
              "  <tbody>\n",
              "    <tr>\n",
              "      <th>0</th>\n",
              "      <td>31</td>\n",
              "      <td>18.02</td>\n",
              "      <td>27.60</td>\n",
              "      <td>117.50</td>\n",
              "      <td>1013.0</td>\n",
              "      <td>0.09489</td>\n",
              "      <td>0.1036</td>\n",
              "      <td>0.1086</td>\n",
              "      <td>0.07055</td>\n",
              "      <td>0.1865</td>\n",
              "      <td>...</td>\n",
              "      <td>139.70</td>\n",
              "      <td>1436.0</td>\n",
              "      <td>0.1195</td>\n",
              "      <td>0.1926</td>\n",
              "      <td>0.3140</td>\n",
              "      <td>0.1170</td>\n",
              "      <td>0.2677</td>\n",
              "      <td>0.08113</td>\n",
              "      <td>5.0</td>\n",
              "      <td>5.0</td>\n",
              "    </tr>\n",
              "    <tr>\n",
              "      <th>1</th>\n",
              "      <td>61</td>\n",
              "      <td>17.99</td>\n",
              "      <td>10.38</td>\n",
              "      <td>122.80</td>\n",
              "      <td>1001.0</td>\n",
              "      <td>0.11840</td>\n",
              "      <td>0.2776</td>\n",
              "      <td>0.3001</td>\n",
              "      <td>0.14710</td>\n",
              "      <td>0.2419</td>\n",
              "      <td>...</td>\n",
              "      <td>184.60</td>\n",
              "      <td>2019.0</td>\n",
              "      <td>0.1622</td>\n",
              "      <td>0.6656</td>\n",
              "      <td>0.7119</td>\n",
              "      <td>0.2654</td>\n",
              "      <td>0.4601</td>\n",
              "      <td>0.11890</td>\n",
              "      <td>3.0</td>\n",
              "      <td>2.0</td>\n",
              "    </tr>\n",
              "    <tr>\n",
              "      <th>2</th>\n",
              "      <td>116</td>\n",
              "      <td>21.37</td>\n",
              "      <td>17.44</td>\n",
              "      <td>137.50</td>\n",
              "      <td>1373.0</td>\n",
              "      <td>0.08836</td>\n",
              "      <td>0.1189</td>\n",
              "      <td>0.1255</td>\n",
              "      <td>0.08180</td>\n",
              "      <td>0.2333</td>\n",
              "      <td>...</td>\n",
              "      <td>159.10</td>\n",
              "      <td>1949.0</td>\n",
              "      <td>0.1188</td>\n",
              "      <td>0.3449</td>\n",
              "      <td>0.3414</td>\n",
              "      <td>0.2032</td>\n",
              "      <td>0.4334</td>\n",
              "      <td>0.09067</td>\n",
              "      <td>2.5</td>\n",
              "      <td>0.0</td>\n",
              "    </tr>\n",
              "    <tr>\n",
              "      <th>3</th>\n",
              "      <td>123</td>\n",
              "      <td>11.42</td>\n",
              "      <td>20.38</td>\n",
              "      <td>77.58</td>\n",
              "      <td>386.1</td>\n",
              "      <td>0.14250</td>\n",
              "      <td>0.2839</td>\n",
              "      <td>0.2414</td>\n",
              "      <td>0.10520</td>\n",
              "      <td>0.2597</td>\n",
              "      <td>...</td>\n",
              "      <td>98.87</td>\n",
              "      <td>567.7</td>\n",
              "      <td>0.2098</td>\n",
              "      <td>0.8663</td>\n",
              "      <td>0.6869</td>\n",
              "      <td>0.2575</td>\n",
              "      <td>0.6638</td>\n",
              "      <td>0.17300</td>\n",
              "      <td>2.0</td>\n",
              "      <td>0.0</td>\n",
              "    </tr>\n",
              "    <tr>\n",
              "      <th>4</th>\n",
              "      <td>27</td>\n",
              "      <td>20.29</td>\n",
              "      <td>14.34</td>\n",
              "      <td>135.10</td>\n",
              "      <td>1297.0</td>\n",
              "      <td>0.10030</td>\n",
              "      <td>0.1328</td>\n",
              "      <td>0.1980</td>\n",
              "      <td>0.10430</td>\n",
              "      <td>0.1809</td>\n",
              "      <td>...</td>\n",
              "      <td>152.20</td>\n",
              "      <td>1575.0</td>\n",
              "      <td>0.1374</td>\n",
              "      <td>0.2050</td>\n",
              "      <td>0.4000</td>\n",
              "      <td>0.1625</td>\n",
              "      <td>0.2364</td>\n",
              "      <td>0.07678</td>\n",
              "      <td>3.5</td>\n",
              "      <td>0.0</td>\n",
              "    </tr>\n",
              "  </tbody>\n",
              "</table>\n",
              "<p>5 rows × 33 columns</p>\n",
              "</div>"
            ],
            "text/plain": [
              "   Time  radius_mean  texture_mean  perimeter_mean  area_mean  \\\n",
              "0    31        18.02         27.60          117.50     1013.0   \n",
              "1    61        17.99         10.38          122.80     1001.0   \n",
              "2   116        21.37         17.44          137.50     1373.0   \n",
              "3   123        11.42         20.38           77.58      386.1   \n",
              "4    27        20.29         14.34          135.10     1297.0   \n",
              "\n",
              "   smoothness_mean  compactness_mean  concavity_mean  concave_points_mean  \\\n",
              "0          0.09489            0.1036          0.1086              0.07055   \n",
              "1          0.11840            0.2776          0.3001              0.14710   \n",
              "2          0.08836            0.1189          0.1255              0.08180   \n",
              "3          0.14250            0.2839          0.2414              0.10520   \n",
              "4          0.10030            0.1328          0.1980              0.10430   \n",
              "\n",
              "   symmetry_mean  ...  Worst_perimeter  Worst_area  Worst_smoothness  \\\n",
              "0         0.1865  ...           139.70      1436.0            0.1195   \n",
              "1         0.2419  ...           184.60      2019.0            0.1622   \n",
              "2         0.2333  ...           159.10      1949.0            0.1188   \n",
              "3         0.2597  ...            98.87       567.7            0.2098   \n",
              "4         0.1809  ...           152.20      1575.0            0.1374   \n",
              "\n",
              "   Worst_compactness  Worst_concavity  Worst_concave_points  Worst_symmetry  \\\n",
              "0             0.1926           0.3140                0.1170          0.2677   \n",
              "1             0.6656           0.7119                0.2654          0.4601   \n",
              "2             0.3449           0.3414                0.2032          0.4334   \n",
              "3             0.8663           0.6869                0.2575          0.6638   \n",
              "4             0.2050           0.4000                0.1625          0.2364   \n",
              "\n",
              "   Worst_fractal_dimension  Tumor_Size  Lymph_Node_Status  \n",
              "0                  0.08113         5.0                5.0  \n",
              "1                  0.11890         3.0                2.0  \n",
              "2                  0.09067         2.5                0.0  \n",
              "3                  0.17300         2.0                0.0  \n",
              "4                  0.07678         3.5                0.0  \n",
              "\n",
              "[5 rows x 33 columns]"
            ]
          },
          "metadata": {
            "tags": []
          },
          "execution_count": 12
        }
      ]
    },
    {
      "cell_type": "code",
      "metadata": {
        "id": "ndeMsS32onH-",
        "outputId": "c7cf3485-9df5-43c5-dc84-186da4b6559f"
      },
      "source": [
        "y=df['Outcome']\n",
        "y.head()"
      ],
      "execution_count": null,
      "outputs": [
        {
          "output_type": "execute_result",
          "data": {
            "text/plain": [
              "0    0\n",
              "1    0\n",
              "2    0\n",
              "3    0\n",
              "4    1\n",
              "Name: Outcome, dtype: int64"
            ]
          },
          "metadata": {
            "tags": []
          },
          "execution_count": 13
        }
      ]
    },
    {
      "cell_type": "code",
      "metadata": {
        "id": "4mTNxw_aonIA",
        "outputId": "7ff4f1cb-9d64-4870-fbf0-99d412485596"
      },
      "source": [
        "from imblearn.under_sampling import RandomUnderSampler"
      ],
      "execution_count": null,
      "outputs": [
        {
          "output_type": "stream",
          "text": [
            "Using TensorFlow backend.\n"
          ],
          "name": "stderr"
        }
      ]
    },
    {
      "cell_type": "code",
      "metadata": {
        "id": "7Z6K_rjhonIB"
      },
      "source": [
        "from imblearn.combine import SMOTEENN"
      ],
      "execution_count": null,
      "outputs": []
    },
    {
      "cell_type": "code",
      "metadata": {
        "id": "m1gv7zrEonIC"
      },
      "source": [
        "sample=SMOTEENN(sampling_strategy=0.5)\n",
        "X_new,y_new=sample.fit_resample(X,y)"
      ],
      "execution_count": null,
      "outputs": []
    },
    {
      "cell_type": "code",
      "metadata": {
        "id": "Zj_73zgkonID"
      },
      "source": [
        "X_train, X_test, y_train, y_test=train_test_split(X_new,y_new,test_size=.3,random_state=0)"
      ],
      "execution_count": null,
      "outputs": []
    },
    {
      "cell_type": "code",
      "metadata": {
        "id": "GuiTaqdyonIE",
        "outputId": "5e251181-21e6-44c0-ba04-1cbdf2225569"
      },
      "source": [
        "print(X_train.shape)"
      ],
      "execution_count": null,
      "outputs": [
        {
          "output_type": "stream",
          "text": [
            "(60, 33)\n"
          ],
          "name": "stdout"
        }
      ]
    },
    {
      "cell_type": "code",
      "metadata": {
        "id": "hKlglcvXonIF",
        "outputId": "e939cfec-56c5-41f8-e9cf-f4e6e13a76da"
      },
      "source": [
        "lg=LogisticRegression(class_weight='balanced',random_state=0).fit(X_train, y_train)\n",
        "print('logistic Regression training Accuracy:')\n",
        "print(lg.score(X_train, y_train))\n",
        "print('logistic Regression testing Accuracy:')\n",
        "print(lg.score(X_test, y_test))\n",
        "print()"
      ],
      "execution_count": null,
      "outputs": [
        {
          "output_type": "stream",
          "text": [
            "logistic Regression training Accuracy:\n",
            "0.7833333333333333\n",
            "logistic Regression testing Accuracy:\n",
            "0.7692307692307693\n",
            "\n"
          ],
          "name": "stdout"
        }
      ]
    },
    {
      "cell_type": "code",
      "metadata": {
        "id": "X1GFfmGfonIH"
      },
      "source": [
        "y_pred=lg.predict(X_test)"
      ],
      "execution_count": null,
      "outputs": []
    },
    {
      "cell_type": "code",
      "metadata": {
        "id": "ZvkAKwf9onII",
        "outputId": "cdfc7812-78e4-41f2-c255-47bb4d7c5009"
      },
      "source": [
        "f1_score(y_test,y_pred)"
      ],
      "execution_count": null,
      "outputs": [
        {
          "output_type": "execute_result",
          "data": {
            "text/plain": [
              "0.5"
            ]
          },
          "metadata": {
            "tags": []
          },
          "execution_count": 25
        }
      ]
    },
    {
      "cell_type": "code",
      "metadata": {
        "id": "yGeJvfJ6onIJ",
        "outputId": "07ee49c0-15d8-4eb4-98a1-4dd77a2835c8"
      },
      "source": [
        "r= RandomForestClassifier(class_weight='balanced',random_state=0).fit(X_train, y_train)#overfitting\n",
        "print('randomforest training Accuracy:')\n",
        "print(r.score(X_train, y_train))\n",
        "print('random forest training Accuracy:')\n",
        "print(r.score(X_test, y_test))\n",
        "    "
      ],
      "execution_count": null,
      "outputs": [
        {
          "output_type": "stream",
          "text": [
            "randomforest training Accuracy:\n",
            "1.0\n",
            "random forest training Accuracy:\n",
            "0.8076923076923077\n"
          ],
          "name": "stdout"
        }
      ]
    },
    {
      "cell_type": "code",
      "metadata": {
        "id": "veDTaOIvonIK"
      },
      "source": [
        "y_pred=r.predict(X_test)"
      ],
      "execution_count": null,
      "outputs": []
    },
    {
      "cell_type": "code",
      "metadata": {
        "id": "8KlFP8i7onIL",
        "outputId": "46925e2e-c2b3-4adc-ab02-9a019c23c45f"
      },
      "source": [
        "f1_score(y_test,y_pred)"
      ],
      "execution_count": null,
      "outputs": [
        {
          "output_type": "execute_result",
          "data": {
            "text/plain": [
              "0.4444444444444445"
            ]
          },
          "metadata": {
            "tags": []
          },
          "execution_count": 28
        }
      ]
    },
    {
      "cell_type": "code",
      "metadata": {
        "id": "lD8dn8OvonIN"
      },
      "source": [
        ""
      ],
      "execution_count": null,
      "outputs": []
    }
  ]
}