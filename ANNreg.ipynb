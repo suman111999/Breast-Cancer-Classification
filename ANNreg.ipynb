{
  "nbformat": 4,
  "nbformat_minor": 0,
  "metadata": {
    "kernelspec": {
      "display_name": "Python 3",
      "language": "python",
      "name": "python3"
    },
    "language_info": {
      "codemirror_mode": {
        "name": "ipython",
        "version": 3
      },
      "file_extension": ".py",
      "mimetype": "text/x-python",
      "name": "python",
      "nbconvert_exporter": "python",
      "pygments_lexer": "ipython3",
      "version": "3.7.6"
    },
    "colab": {
      "name": "ANNreg.ipynb",
      "provenance": [],
      "include_colab_link": true
    }
  },
  "cells": [
    {
      "cell_type": "markdown",
      "metadata": {
        "id": "view-in-github",
        "colab_type": "text"
      },
      "source": [
        "<a href=\"https://colab.research.google.com/github/suman111999/Breast-Cancer-Classification/blob/main/ANNreg.ipynb\" target=\"_parent\"><img src=\"https://colab.research.google.com/assets/colab-badge.svg\" alt=\"Open In Colab\"/></a>"
      ]
    },
    {
      "cell_type": "code",
      "metadata": {
        "id": "8_XQIFnttysH"
      },
      "source": [
        "import pandas as pd\n",
        "import numpy as np\n",
        "import sklearn.ensemble\n",
        "import matplotlib.pyplot as plt \n",
        "from sklearn.model_selection import train_test_split\n",
        "from sklearn.linear_model import LinearRegression,Lasso\n",
        "from sklearn.model_selection import cross_val_score  \n",
        "from sklearn.ensemble import RandomForestRegressor\n",
        "from sklearn.tree import DecisionTreeRegressor\n",
        "from sklearn import metrics\n",
        "from sklearn.svm import SVR\n",
        "from sklearn.preprocessing import StandardScaler\n",
        "import seaborn as sns\n",
        "import itertools\n",
        "from sklearn.metrics import precision_score, recall_score, confusion_matrix, roc_curve, precision_recall_curve, accuracy_score\n",
        "import warnings\n",
        "warnings.filterwarnings('ignore')\n",
        "from sklearn.metrics import mean_squared_error, r2_score"
      ],
      "execution_count": null,
      "outputs": []
    },
    {
      "cell_type": "code",
      "metadata": {
        "id": "LZlIe4DRtysV",
        "outputId": "46b0c418-9b85-4d6c-e08d-9b1321507669"
      },
      "source": [
        "df=pd.read_excel('BreastCancer_Prognostic_v1.xlsx')\n",
        "df.head()"
      ],
      "execution_count": null,
      "outputs": [
        {
          "output_type": "execute_result",
          "data": {
            "text/html": [
              "<div>\n",
              "<style scoped>\n",
              "    .dataframe tbody tr th:only-of-type {\n",
              "        vertical-align: middle;\n",
              "    }\n",
              "\n",
              "    .dataframe tbody tr th {\n",
              "        vertical-align: top;\n",
              "    }\n",
              "\n",
              "    .dataframe thead th {\n",
              "        text-align: right;\n",
              "    }\n",
              "</style>\n",
              "<table border=\"1\" class=\"dataframe\">\n",
              "  <thead>\n",
              "    <tr style=\"text-align: right;\">\n",
              "      <th></th>\n",
              "      <th>ID</th>\n",
              "      <th>Outcome</th>\n",
              "      <th>Time</th>\n",
              "      <th>radius_mean</th>\n",
              "      <th>texture_mean</th>\n",
              "      <th>perimeter_mean</th>\n",
              "      <th>area_mean</th>\n",
              "      <th>smoothness_mean</th>\n",
              "      <th>compactness_mean</th>\n",
              "      <th>concavity_mean</th>\n",
              "      <th>...</th>\n",
              "      <th>Worst_perimeter</th>\n",
              "      <th>Worst_area</th>\n",
              "      <th>Worst_smoothness</th>\n",
              "      <th>Worst_compactness</th>\n",
              "      <th>Worst_concavity</th>\n",
              "      <th>Worst_concave_points</th>\n",
              "      <th>Worst_symmetry</th>\n",
              "      <th>Worst_fractal_dimension</th>\n",
              "      <th>Tumor_Size</th>\n",
              "      <th>Lymph_Node_Status</th>\n",
              "    </tr>\n",
              "  </thead>\n",
              "  <tbody>\n",
              "    <tr>\n",
              "      <th>0</th>\n",
              "      <td>119513</td>\n",
              "      <td>N</td>\n",
              "      <td>31</td>\n",
              "      <td>18.02</td>\n",
              "      <td>27.60</td>\n",
              "      <td>117.50</td>\n",
              "      <td>1013.0</td>\n",
              "      <td>0.09489</td>\n",
              "      <td>0.1036</td>\n",
              "      <td>0.1086</td>\n",
              "      <td>...</td>\n",
              "      <td>139.70</td>\n",
              "      <td>1436.0</td>\n",
              "      <td>0.1195</td>\n",
              "      <td>0.1926</td>\n",
              "      <td>0.3140</td>\n",
              "      <td>0.1170</td>\n",
              "      <td>0.2677</td>\n",
              "      <td>0.08113</td>\n",
              "      <td>5.0</td>\n",
              "      <td>5</td>\n",
              "    </tr>\n",
              "    <tr>\n",
              "      <th>1</th>\n",
              "      <td>8423</td>\n",
              "      <td>N</td>\n",
              "      <td>61</td>\n",
              "      <td>17.99</td>\n",
              "      <td>10.38</td>\n",
              "      <td>122.80</td>\n",
              "      <td>1001.0</td>\n",
              "      <td>0.11840</td>\n",
              "      <td>0.2776</td>\n",
              "      <td>0.3001</td>\n",
              "      <td>...</td>\n",
              "      <td>184.60</td>\n",
              "      <td>2019.0</td>\n",
              "      <td>0.1622</td>\n",
              "      <td>0.6656</td>\n",
              "      <td>0.7119</td>\n",
              "      <td>0.2654</td>\n",
              "      <td>0.4601</td>\n",
              "      <td>0.11890</td>\n",
              "      <td>3.0</td>\n",
              "      <td>2</td>\n",
              "    </tr>\n",
              "    <tr>\n",
              "      <th>2</th>\n",
              "      <td>842517</td>\n",
              "      <td>N</td>\n",
              "      <td>116</td>\n",
              "      <td>21.37</td>\n",
              "      <td>17.44</td>\n",
              "      <td>137.50</td>\n",
              "      <td>1373.0</td>\n",
              "      <td>0.08836</td>\n",
              "      <td>0.1189</td>\n",
              "      <td>0.1255</td>\n",
              "      <td>...</td>\n",
              "      <td>159.10</td>\n",
              "      <td>1949.0</td>\n",
              "      <td>0.1188</td>\n",
              "      <td>0.3449</td>\n",
              "      <td>0.3414</td>\n",
              "      <td>0.2032</td>\n",
              "      <td>0.4334</td>\n",
              "      <td>0.09067</td>\n",
              "      <td>2.5</td>\n",
              "      <td>0</td>\n",
              "    </tr>\n",
              "    <tr>\n",
              "      <th>3</th>\n",
              "      <td>843483</td>\n",
              "      <td>N</td>\n",
              "      <td>123</td>\n",
              "      <td>11.42</td>\n",
              "      <td>20.38</td>\n",
              "      <td>77.58</td>\n",
              "      <td>386.1</td>\n",
              "      <td>0.14250</td>\n",
              "      <td>0.2839</td>\n",
              "      <td>0.2414</td>\n",
              "      <td>...</td>\n",
              "      <td>98.87</td>\n",
              "      <td>567.7</td>\n",
              "      <td>0.2098</td>\n",
              "      <td>0.8663</td>\n",
              "      <td>0.6869</td>\n",
              "      <td>0.2575</td>\n",
              "      <td>0.6638</td>\n",
              "      <td>0.17300</td>\n",
              "      <td>2.0</td>\n",
              "      <td>0</td>\n",
              "    </tr>\n",
              "    <tr>\n",
              "      <th>4</th>\n",
              "      <td>843584</td>\n",
              "      <td>R</td>\n",
              "      <td>27</td>\n",
              "      <td>20.29</td>\n",
              "      <td>14.34</td>\n",
              "      <td>135.10</td>\n",
              "      <td>1297.0</td>\n",
              "      <td>0.10030</td>\n",
              "      <td>0.1328</td>\n",
              "      <td>0.1980</td>\n",
              "      <td>...</td>\n",
              "      <td>152.20</td>\n",
              "      <td>1575.0</td>\n",
              "      <td>0.1374</td>\n",
              "      <td>0.2050</td>\n",
              "      <td>0.4000</td>\n",
              "      <td>0.1625</td>\n",
              "      <td>0.2364</td>\n",
              "      <td>0.07678</td>\n",
              "      <td>3.5</td>\n",
              "      <td>0</td>\n",
              "    </tr>\n",
              "  </tbody>\n",
              "</table>\n",
              "<p>5 rows × 35 columns</p>\n",
              "</div>"
            ],
            "text/plain": [
              "       ID Outcome  Time  radius_mean  texture_mean  perimeter_mean  area_mean  \\\n",
              "0  119513       N    31        18.02         27.60          117.50     1013.0   \n",
              "1    8423       N    61        17.99         10.38          122.80     1001.0   \n",
              "2  842517       N   116        21.37         17.44          137.50     1373.0   \n",
              "3  843483       N   123        11.42         20.38           77.58      386.1   \n",
              "4  843584       R    27        20.29         14.34          135.10     1297.0   \n",
              "\n",
              "   smoothness_mean  compactness_mean  concavity_mean  ...  Worst_perimeter  \\\n",
              "0          0.09489            0.1036          0.1086  ...           139.70   \n",
              "1          0.11840            0.2776          0.3001  ...           184.60   \n",
              "2          0.08836            0.1189          0.1255  ...           159.10   \n",
              "3          0.14250            0.2839          0.2414  ...            98.87   \n",
              "4          0.10030            0.1328          0.1980  ...           152.20   \n",
              "\n",
              "   Worst_area  Worst_smoothness  Worst_compactness  Worst_concavity  \\\n",
              "0      1436.0            0.1195             0.1926           0.3140   \n",
              "1      2019.0            0.1622             0.6656           0.7119   \n",
              "2      1949.0            0.1188             0.3449           0.3414   \n",
              "3       567.7            0.2098             0.8663           0.6869   \n",
              "4      1575.0            0.1374             0.2050           0.4000   \n",
              "\n",
              "   Worst_concave_points  Worst_symmetry  Worst_fractal_dimension  Tumor_Size  \\\n",
              "0                0.1170          0.2677                  0.08113         5.0   \n",
              "1                0.2654          0.4601                  0.11890         3.0   \n",
              "2                0.2032          0.4334                  0.09067         2.5   \n",
              "3                0.2575          0.6638                  0.17300         2.0   \n",
              "4                0.1625          0.2364                  0.07678         3.5   \n",
              "\n",
              "   Lymph_Node_Status  \n",
              "0                  5  \n",
              "1                  2  \n",
              "2                  0  \n",
              "3                  0  \n",
              "4                  0  \n",
              "\n",
              "[5 rows x 35 columns]"
            ]
          },
          "metadata": {
            "tags": []
          },
          "execution_count": 2
        }
      ]
    },
    {
      "cell_type": "code",
      "metadata": {
        "id": "m7PBzZxWtysY"
      },
      "source": [
        "df1=df[df.Outcome != 'N']"
      ],
      "execution_count": null,
      "outputs": []
    },
    {
      "cell_type": "code",
      "metadata": {
        "id": "hWc15iKktysZ",
        "outputId": "e137d17f-88b8-419f-f5bc-fb7419b0819a"
      },
      "source": [
        "df1.shape"
      ],
      "execution_count": null,
      "outputs": [
        {
          "output_type": "execute_result",
          "data": {
            "text/plain": [
              "(47, 35)"
            ]
          },
          "metadata": {
            "tags": []
          },
          "execution_count": 4
        }
      ]
    },
    {
      "cell_type": "code",
      "metadata": {
        "id": "QiP_t19ytysa"
      },
      "source": [
        "df1.replace(to_replace='?',value=np.nan,inplace=True)"
      ],
      "execution_count": null,
      "outputs": []
    },
    {
      "cell_type": "code",
      "metadata": {
        "id": "2FgGHhhutysb",
        "outputId": "c160f250-1873-4d3a-abe1-25769fd8a85b"
      },
      "source": [
        "df1.info()"
      ],
      "execution_count": null,
      "outputs": [
        {
          "output_type": "stream",
          "text": [
            "<class 'pandas.core.frame.DataFrame'>\n",
            "Int64Index: 47 entries, 4 to 196\n",
            "Data columns (total 35 columns):\n",
            "ID                           47 non-null int64\n",
            "Outcome                      47 non-null object\n",
            "Time                         47 non-null int64\n",
            "radius_mean                  47 non-null float64\n",
            "texture_mean                 47 non-null float64\n",
            "perimeter_mean               47 non-null float64\n",
            "area_mean                    47 non-null float64\n",
            "smoothness_mean              47 non-null float64\n",
            "compactness_mean             47 non-null float64\n",
            "concavity_mean               47 non-null float64\n",
            "concave_points_mean          47 non-null float64\n",
            "symmetry_mean                47 non-null float64\n",
            "fractal_dimension_mean       47 non-null float64\n",
            "radius_std_dev               47 non-null float64\n",
            "texture_std_dev              47 non-null float64\n",
            "perimeter_std_dev            47 non-null float64\n",
            "area_std_dev                 47 non-null float64\n",
            "smoothness_std_dev           47 non-null float64\n",
            "compactness_std_dev          47 non-null float64\n",
            "concavity_std_dev            47 non-null float64\n",
            "concave_points_std_dev       47 non-null float64\n",
            "symmetry_std_dev             47 non-null float64\n",
            "fractal_dimension_std_dev    47 non-null float64\n",
            "Worst_radius                 47 non-null float64\n",
            "Worst_texture                47 non-null float64\n",
            "Worst_perimeter              47 non-null float64\n",
            "Worst_area                   47 non-null float64\n",
            "Worst_smoothness             47 non-null float64\n",
            "Worst_compactness            47 non-null float64\n",
            "Worst_concavity              47 non-null float64\n",
            "Worst_concave_points         47 non-null float64\n",
            "Worst_symmetry               47 non-null float64\n",
            "Worst_fractal_dimension      47 non-null float64\n",
            "Tumor_Size                   47 non-null float64\n",
            "Lymph_Node_Status            46 non-null float64\n",
            "dtypes: float64(32), int64(2), object(1)\n",
            "memory usage: 13.2+ KB\n"
          ],
          "name": "stdout"
        }
      ]
    },
    {
      "cell_type": "code",
      "metadata": {
        "id": "V7Tme9Qatysc",
        "outputId": "d781b07f-9d68-4092-9113-ea7e04a2da6a"
      },
      "source": [
        "df1.isna().values.any()"
      ],
      "execution_count": null,
      "outputs": [
        {
          "output_type": "execute_result",
          "data": {
            "text/plain": [
              "True"
            ]
          },
          "metadata": {
            "tags": []
          },
          "execution_count": 7
        }
      ]
    },
    {
      "cell_type": "code",
      "metadata": {
        "id": "rIJeri7ntysc"
      },
      "source": [
        "df1=df1.fillna(df1.mean())"
      ],
      "execution_count": null,
      "outputs": []
    },
    {
      "cell_type": "code",
      "metadata": {
        "id": "VDs8Ej8Rtysd",
        "outputId": "3fb63319-9521-4c9e-a2e9-2348eee29e30"
      },
      "source": [
        "df1.head()"
      ],
      "execution_count": null,
      "outputs": [
        {
          "output_type": "execute_result",
          "data": {
            "text/html": [
              "<div>\n",
              "<style scoped>\n",
              "    .dataframe tbody tr th:only-of-type {\n",
              "        vertical-align: middle;\n",
              "    }\n",
              "\n",
              "    .dataframe tbody tr th {\n",
              "        vertical-align: top;\n",
              "    }\n",
              "\n",
              "    .dataframe thead th {\n",
              "        text-align: right;\n",
              "    }\n",
              "</style>\n",
              "<table border=\"1\" class=\"dataframe\">\n",
              "  <thead>\n",
              "    <tr style=\"text-align: right;\">\n",
              "      <th></th>\n",
              "      <th>ID</th>\n",
              "      <th>Outcome</th>\n",
              "      <th>Time</th>\n",
              "      <th>radius_mean</th>\n",
              "      <th>texture_mean</th>\n",
              "      <th>perimeter_mean</th>\n",
              "      <th>area_mean</th>\n",
              "      <th>smoothness_mean</th>\n",
              "      <th>compactness_mean</th>\n",
              "      <th>concavity_mean</th>\n",
              "      <th>...</th>\n",
              "      <th>Worst_perimeter</th>\n",
              "      <th>Worst_area</th>\n",
              "      <th>Worst_smoothness</th>\n",
              "      <th>Worst_compactness</th>\n",
              "      <th>Worst_concavity</th>\n",
              "      <th>Worst_concave_points</th>\n",
              "      <th>Worst_symmetry</th>\n",
              "      <th>Worst_fractal_dimension</th>\n",
              "      <th>Tumor_Size</th>\n",
              "      <th>Lymph_Node_Status</th>\n",
              "    </tr>\n",
              "  </thead>\n",
              "  <tbody>\n",
              "    <tr>\n",
              "      <th>4</th>\n",
              "      <td>843584</td>\n",
              "      <td>R</td>\n",
              "      <td>27</td>\n",
              "      <td>20.29</td>\n",
              "      <td>14.34</td>\n",
              "      <td>135.10</td>\n",
              "      <td>1297.0</td>\n",
              "      <td>0.1003</td>\n",
              "      <td>0.1328</td>\n",
              "      <td>0.19800</td>\n",
              "      <td>...</td>\n",
              "      <td>152.2</td>\n",
              "      <td>1575.0</td>\n",
              "      <td>0.1374</td>\n",
              "      <td>0.2050</td>\n",
              "      <td>0.4000</td>\n",
              "      <td>0.1625</td>\n",
              "      <td>0.2364</td>\n",
              "      <td>0.07678</td>\n",
              "      <td>3.5</td>\n",
              "      <td>0.0</td>\n",
              "    </tr>\n",
              "    <tr>\n",
              "      <th>5</th>\n",
              "      <td>843786</td>\n",
              "      <td>R</td>\n",
              "      <td>77</td>\n",
              "      <td>12.75</td>\n",
              "      <td>15.29</td>\n",
              "      <td>84.60</td>\n",
              "      <td>502.7</td>\n",
              "      <td>0.1189</td>\n",
              "      <td>0.1569</td>\n",
              "      <td>0.16640</td>\n",
              "      <td>...</td>\n",
              "      <td>107.3</td>\n",
              "      <td>733.2</td>\n",
              "      <td>0.1706</td>\n",
              "      <td>0.4196</td>\n",
              "      <td>0.5999</td>\n",
              "      <td>0.1709</td>\n",
              "      <td>0.3485</td>\n",
              "      <td>0.11790</td>\n",
              "      <td>2.5</td>\n",
              "      <td>0.0</td>\n",
              "    </tr>\n",
              "    <tr>\n",
              "      <th>7</th>\n",
              "      <td>844582</td>\n",
              "      <td>R</td>\n",
              "      <td>77</td>\n",
              "      <td>13.71</td>\n",
              "      <td>20.83</td>\n",
              "      <td>90.20</td>\n",
              "      <td>577.9</td>\n",
              "      <td>0.1189</td>\n",
              "      <td>0.1645</td>\n",
              "      <td>0.09366</td>\n",
              "      <td>...</td>\n",
              "      <td>110.6</td>\n",
              "      <td>897.0</td>\n",
              "      <td>0.1654</td>\n",
              "      <td>0.3682</td>\n",
              "      <td>0.2678</td>\n",
              "      <td>0.1556</td>\n",
              "      <td>0.3196</td>\n",
              "      <td>0.11510</td>\n",
              "      <td>4.0</td>\n",
              "      <td>10.0</td>\n",
              "    </tr>\n",
              "    <tr>\n",
              "      <th>13</th>\n",
              "      <td>847990</td>\n",
              "      <td>R</td>\n",
              "      <td>36</td>\n",
              "      <td>14.54</td>\n",
              "      <td>27.54</td>\n",
              "      <td>96.73</td>\n",
              "      <td>658.8</td>\n",
              "      <td>0.1139</td>\n",
              "      <td>0.1595</td>\n",
              "      <td>0.16390</td>\n",
              "      <td>...</td>\n",
              "      <td>124.1</td>\n",
              "      <td>943.2</td>\n",
              "      <td>0.1678</td>\n",
              "      <td>0.6577</td>\n",
              "      <td>0.7026</td>\n",
              "      <td>0.1712</td>\n",
              "      <td>0.4218</td>\n",
              "      <td>0.13410</td>\n",
              "      <td>6.0</td>\n",
              "      <td>6.0</td>\n",
              "    </tr>\n",
              "    <tr>\n",
              "      <th>15</th>\n",
              "      <td>848620</td>\n",
              "      <td>R</td>\n",
              "      <td>10</td>\n",
              "      <td>16.13</td>\n",
              "      <td>20.68</td>\n",
              "      <td>108.10</td>\n",
              "      <td>798.8</td>\n",
              "      <td>0.1170</td>\n",
              "      <td>0.2022</td>\n",
              "      <td>0.17220</td>\n",
              "      <td>...</td>\n",
              "      <td>136.8</td>\n",
              "      <td>1315.0</td>\n",
              "      <td>0.1789</td>\n",
              "      <td>0.4233</td>\n",
              "      <td>0.4784</td>\n",
              "      <td>0.2073</td>\n",
              "      <td>0.3706</td>\n",
              "      <td>0.11420</td>\n",
              "      <td>3.0</td>\n",
              "      <td>1.0</td>\n",
              "    </tr>\n",
              "  </tbody>\n",
              "</table>\n",
              "<p>5 rows × 35 columns</p>\n",
              "</div>"
            ],
            "text/plain": [
              "        ID Outcome  Time  radius_mean  texture_mean  perimeter_mean  \\\n",
              "4   843584       R    27        20.29         14.34          135.10   \n",
              "5   843786       R    77        12.75         15.29           84.60   \n",
              "7   844582       R    77        13.71         20.83           90.20   \n",
              "13  847990       R    36        14.54         27.54           96.73   \n",
              "15  848620       R    10        16.13         20.68          108.10   \n",
              "\n",
              "    area_mean  smoothness_mean  compactness_mean  concavity_mean  ...  \\\n",
              "4      1297.0           0.1003            0.1328         0.19800  ...   \n",
              "5       502.7           0.1189            0.1569         0.16640  ...   \n",
              "7       577.9           0.1189            0.1645         0.09366  ...   \n",
              "13      658.8           0.1139            0.1595         0.16390  ...   \n",
              "15      798.8           0.1170            0.2022         0.17220  ...   \n",
              "\n",
              "    Worst_perimeter  Worst_area  Worst_smoothness  Worst_compactness  \\\n",
              "4             152.2      1575.0            0.1374             0.2050   \n",
              "5             107.3       733.2            0.1706             0.4196   \n",
              "7             110.6       897.0            0.1654             0.3682   \n",
              "13            124.1       943.2            0.1678             0.6577   \n",
              "15            136.8      1315.0            0.1789             0.4233   \n",
              "\n",
              "    Worst_concavity  Worst_concave_points  Worst_symmetry  \\\n",
              "4            0.4000                0.1625          0.2364   \n",
              "5            0.5999                0.1709          0.3485   \n",
              "7            0.2678                0.1556          0.3196   \n",
              "13           0.7026                0.1712          0.4218   \n",
              "15           0.4784                0.2073          0.3706   \n",
              "\n",
              "    Worst_fractal_dimension  Tumor_Size  Lymph_Node_Status  \n",
              "4                   0.07678         3.5                0.0  \n",
              "5                   0.11790         2.5                0.0  \n",
              "7                   0.11510         4.0               10.0  \n",
              "13                  0.13410         6.0                6.0  \n",
              "15                  0.11420         3.0                1.0  \n",
              "\n",
              "[5 rows x 35 columns]"
            ]
          },
          "metadata": {
            "tags": []
          },
          "execution_count": 9
        }
      ]
    },
    {
      "cell_type": "code",
      "metadata": {
        "id": "5eQBt47qtyse"
      },
      "source": [
        "X = df1.iloc[:, 3:].values\n",
        "y = df1.iloc[:, 2].values"
      ],
      "execution_count": null,
      "outputs": []
    },
    {
      "cell_type": "code",
      "metadata": {
        "id": "_m3-j017tysf"
      },
      "source": [
        "#X=pd.DataFrame(X)\n",
        "#X.head()"
      ],
      "execution_count": null,
      "outputs": []
    },
    {
      "cell_type": "code",
      "metadata": {
        "id": "SaCkQQ6Vtysf"
      },
      "source": [
        "#X.shape"
      ],
      "execution_count": null,
      "outputs": []
    },
    {
      "cell_type": "code",
      "metadata": {
        "id": "fs1kXeSKtysg"
      },
      "source": [
        "#X.info()"
      ],
      "execution_count": null,
      "outputs": []
    },
    {
      "cell_type": "code",
      "metadata": {
        "id": "OYfXh7xCtysg"
      },
      "source": [
        "#y=pd.DataFrame(y)\n",
        "#y.head()"
      ],
      "execution_count": null,
      "outputs": []
    },
    {
      "cell_type": "code",
      "metadata": {
        "id": "9ELNOamVtysh"
      },
      "source": [
        "from sklearn.model_selection import train_test_split\n",
        "X_train, X_test, y_train, y_test = train_test_split(X, y, test_size = 0.1, random_state = 0)"
      ],
      "execution_count": null,
      "outputs": []
    },
    {
      "cell_type": "code",
      "metadata": {
        "id": "syQAwn70tysh"
      },
      "source": [
        "from sklearn.preprocessing import StandardScaler\n",
        "sc = StandardScaler()\n",
        "X_train = sc.fit_transform(X_train)\n",
        "X_test = sc.transform(X_test)"
      ],
      "execution_count": null,
      "outputs": []
    },
    {
      "cell_type": "code",
      "metadata": {
        "id": "z144HU7Ltysi",
        "outputId": "9cb80d34-9a13-4d90-ff72-aa3773fe1363"
      },
      "source": [
        "import keras\n",
        "from keras.models import Sequential\n",
        "from keras.layers import Dense, Dropout"
      ],
      "execution_count": null,
      "outputs": [
        {
          "output_type": "stream",
          "text": [
            "Using TensorFlow backend.\n"
          ],
          "name": "stderr"
        }
      ]
    },
    {
      "cell_type": "code",
      "metadata": {
        "id": "_AdS1jfMtysi"
      },
      "source": [
        "classifier = Sequential()"
      ],
      "execution_count": null,
      "outputs": []
    },
    {
      "cell_type": "code",
      "metadata": {
        "id": "zNvZ_MXttysj",
        "outputId": "ee7031f1-e261-40f9-8f7b-cf8d825d2775"
      },
      "source": [
        "# Adding the input layer and the first hidden layer\n",
        "classifier.add(Dense(output_dim=16, init='uniform', activation='relu', input_dim=32))\n",
        "# Adding dropout to prevent overfitting\n",
        "classifier.add(Dropout(p=0.1))"
      ],
      "execution_count": null,
      "outputs": [
        {
          "output_type": "stream",
          "text": [
            "WARNING:tensorflow:From /srv/conda/envs/notebook/lib/python3.7/site-packages/tensorflow/python/ops/resource_variable_ops.py:435: colocate_with (from tensorflow.python.framework.ops) is deprecated and will be removed in a future version.\n",
            "Instructions for updating:\n",
            "Colocations handled automatically by placer.\n"
          ],
          "name": "stdout"
        }
      ]
    },
    {
      "cell_type": "code",
      "metadata": {
        "id": "-d3Y-USttysj"
      },
      "source": [
        "classifier.add(Dense(output_dim=16, init='uniform', activation='relu'))\n",
        "# Adding dropout to prevent overfitting\n",
        "classifier.add(Dropout(p=0.1))"
      ],
      "execution_count": null,
      "outputs": []
    },
    {
      "cell_type": "code",
      "metadata": {
        "id": "gQoyirPStysk"
      },
      "source": [
        "classifier.add(Dense(output_dim=1, init='uniform', activation='linear'))"
      ],
      "execution_count": null,
      "outputs": []
    },
    {
      "cell_type": "code",
      "metadata": {
        "id": "MfcFQB_etysk"
      },
      "source": [
        "classifier.compile(optimizer='adam', loss='mean_absolute_error', metrics=['mean_absolute_error'])"
      ],
      "execution_count": null,
      "outputs": []
    },
    {
      "cell_type": "code",
      "metadata": {
        "id": "j6QnU0Motysl",
        "outputId": "53845d22-6039-48ea-bc49-38a5d9fbefc4"
      },
      "source": [
        "classifier.fit(X_train, y_train, batch_size=100, nb_epoch=150,validation_data=(X_test,y_test))"
      ],
      "execution_count": null,
      "outputs": [
        {
          "output_type": "error",
          "ename": "NameError",
          "evalue": "name 'classifier' is not defined",
          "traceback": [
            "\u001b[1;31m---------------------------------------------------------------------------\u001b[0m",
            "\u001b[1;31mNameError\u001b[0m                                 Traceback (most recent call last)",
            "\u001b[1;32m<ipython-input-1-5bbe2c936f81>\u001b[0m in \u001b[0;36m<module>\u001b[1;34m\u001b[0m\n\u001b[1;32m----> 1\u001b[1;33m \u001b[0mclassifier\u001b[0m\u001b[1;33m.\u001b[0m\u001b[0mfit\u001b[0m\u001b[1;33m(\u001b[0m\u001b[0mX_train\u001b[0m\u001b[1;33m,\u001b[0m \u001b[0my_train\u001b[0m\u001b[1;33m,\u001b[0m \u001b[0mbatch_size\u001b[0m\u001b[1;33m=\u001b[0m\u001b[1;36m100\u001b[0m\u001b[1;33m,\u001b[0m \u001b[0mnb_epoch\u001b[0m\u001b[1;33m=\u001b[0m\u001b[1;36m150\u001b[0m\u001b[1;33m,\u001b[0m\u001b[0mvalidation_data\u001b[0m\u001b[1;33m=\u001b[0m\u001b[1;33m(\u001b[0m\u001b[0mX_test\u001b[0m\u001b[1;33m,\u001b[0m\u001b[0my_test\u001b[0m\u001b[1;33m)\u001b[0m\u001b[1;33m)\u001b[0m\u001b[1;33m\u001b[0m\u001b[1;33m\u001b[0m\u001b[0m\n\u001b[0m",
            "\u001b[1;31mNameError\u001b[0m: name 'classifier' is not defined"
          ]
        }
      ]
    },
    {
      "cell_type": "code",
      "metadata": {
        "id": "m7GGH3M_tysl"
      },
      "source": [
        "from xgboost import XGBRegressor\n",
        "from sklearn.metrics import mean_absolute_error "
      ],
      "execution_count": null,
      "outputs": []
    },
    {
      "cell_type": "code",
      "metadata": {
        "id": "-cvSNe6stysm",
        "outputId": "0874dfc7-d13b-441a-be3a-476964d9c09a"
      },
      "source": [
        "XGBModel = XGBRegressor()\n",
        "XGBModel.fit(X_train,y_train , verbose=False)\n",
        "\n",
        "# Get the mean absolute error on the validation data :\n",
        "XGBpredictions = XGBModel.predict(X_test)\n",
        "MAE = mean_absolute_error(y_test , XGBpredictions)\n",
        "print('XGBoost validation MAE = ',MAE)"
      ],
      "execution_count": null,
      "outputs": [
        {
          "output_type": "stream",
          "text": [
            "XGBoost validation MAE =  26.92263231277466\n"
          ],
          "name": "stdout"
        }
      ]
    },
    {
      "cell_type": "code",
      "metadata": {
        "id": "wIg_mizbtysm"
      },
      "source": [
        ""
      ],
      "execution_count": null,
      "outputs": []
    },
    {
      "cell_type": "code",
      "metadata": {
        "id": "wuexh4MCtysn"
      },
      "source": [
        ""
      ],
      "execution_count": null,
      "outputs": []
    }
  ]
}